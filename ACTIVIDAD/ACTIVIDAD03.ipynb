{
  "nbformat": 4,
  "nbformat_minor": 0,
  "metadata": {
    "colab": {
      "name": "ACTIVIDAD03.ipynb",
      "provenance": [],
      "toc_visible": true,
      "authorship_tag": "ABX9TyOZfgWSEOloQ1prgL7+f12n"
    },
    "kernelspec": {
      "name": "python3",
      "display_name": "Python 3"
    },
    "language_info": {
      "name": "python"
    }
  },
  "cells": [
    {
      "cell_type": "markdown",
      "metadata": {
        "id": "7L2m1IplllVW"
      },
      "source": [
        "#ACTIVIDAD 03\n",
        "---\n",
        "```\n",
        "Universidad Nacional de San Antonio Abad del Cusco\n",
        "Asignatura: Mineria de Datos\n",
        "Docente   : Carlos Fernando Montoya Cubas\n",
        "Autor     : Etson Ronaldao Rojas Cahuana\n",
        "Fecha     : 24/11/2021\n",
        "Lugar     : Cusco, Perú\n",
        "Proposito : Implementar el algoritmo apriori\n",
        "```\n",
        "---"
      ]
    },
    {
      "cell_type": "markdown",
      "metadata": {
        "id": "4lJ5o3z9mdvz"
      },
      "source": [
        "# Introducción\n",
        "\n",
        "Esta tarea consiste en implementar el algoritmo Apriori, propuesto por Agrawal y\n",
        "Srikant en 1994. Este tiene como objetivo encontrar itemsets frecuentes dentro de una base de datos y generar reglas de asociación bajo determinados umbrales de soporte y confianza.\n",
        "\n",
        "En data mining, las reglas de asociación son ampliamente utilizadas para descubrir relaciones entre variables en bases de datos de gran tamaño. Aplicaciones clásicas de este tipo de estrategias pueden ser encontradas en análisis de compras y de características socio-demográficas desde bases de datos censales, entre otras."
      ]
    },
    {
      "cell_type": "markdown",
      "metadata": {
        "id": "w-RQU3xNnS8o"
      },
      "source": [
        "# Base de Datos\n",
        "\n",
        "La base de datos a utilizar corresponde a múltiples playlists de la plataforma spotify creadas por usuarios de esta. Este es una muestra del dataset publicado para el Rec- SysChallenge 2018.\n",
        "\n",
        "**spotify.npy** : Cada una de sus filas contiene una lista de canciones, la que\n",
        "representa una playlist de spotify."
      ]
    },
    {
      "cell_type": "markdown",
      "metadata": {
        "id": "JO-LcLg6ue0P"
      },
      "source": [
        "#Implementacion"
      ]
    },
    {
      "cell_type": "markdown",
      "metadata": {
        "id": "b7HXRqcMpNMG"
      },
      "source": [
        "#Librerias\n",
        "\n",
        "*   Pandas: Es una biblioteca de software escrita como extensión de NumPy para manipulación y análisis de datos. \n",
        "*   Numpy: Da soporte para crear vectores y matrices grandes multidimensionales, junto con una gran colección de funciones matemáticas de alto nivel para operar con ellas.\n",
        "*   Collections - defaultdict: Collections ayudara al manejo de los diccionarios y tuplas, y defaultdict creará cualquier elemento al que se intente acceder (siempre que, por supuesto, aún no existe), para evitar el keyrror del diccionario.\n",
        "\n",
        "\n",
        "\n",
        "\n",
        "\n",
        "\n"
      ]
    },
    {
      "cell_type": "code",
      "metadata": {
        "id": "h_CP3g-3mcBV"
      },
      "source": [
        "import pandas as pd\n",
        "import numpy as np\n",
        "import collections\n",
        "from collections import defaultdict"
      ],
      "execution_count": 1,
      "outputs": []
    },
    {
      "cell_type": "markdown",
      "metadata": {
        "id": "hfpit1kYhA3i"
      },
      "source": [
        "#Funciones "
      ]
    },
    {
      "cell_type": "markdown",
      "metadata": {
        "id": "61hG27FzfvTR"
      },
      "source": [
        "##Principales\n",
        "*   **get_frequent_itemsets(playlists, min_support):** Recibe la estructura de datos que contiene a las playlists y retorna una estructura con los itemsets fre-cuentes, bajo un umbral mínimo de soporte.\n",
        "\n",
        "*   **generate_association_rules(frequent_itemsets, confidence, lift):** Recibe los itemsets frecuentes generados por la función anterior y retorna las reglas de asociación. Se le puede entregar umbrales de confianza o lift para las reglas que se retornarán. Por ejemplo, si se llama esta función con los ar- gumentos confidence = 0.5 y lift = 1.2, se espera que se retornen aquellas reglas que cumplan con una confianza ≥ 0.5 y un lift ≥ 1.2.\n"
      ]
    },
    {
      "cell_type": "markdown",
      "metadata": {
        "id": "Yvo2zs6lnFnM"
      },
      "source": [
        "Primera funcion principal"
      ]
    },
    {
      "cell_type": "code",
      "metadata": {
        "id": "iyYUzOaDfvrw"
      },
      "source": [
        "def get_frequent_itemsets(playlists, min_support):\n",
        "  #Se convierte los datos en listas de conjuntos, tambien se genera la frecuencia de cada cancion\n",
        "  playlists = list(playlists.item().values())\n",
        "  playlists = [set(playlist) for playlist in playlists]\n",
        "  canciones = [item for sublist in playlists for item in sublist]\n",
        "  contador_canciones = pd.Series(data=canciones).value_counts().to_dict()\n",
        "  #Se genera un diccionario de canciones y los indices de las playlists en las que tambien estan incluidas\n",
        "  canciones_playlists = collections.defaultdict(set)\n",
        "  for index, playlist in enumerate(playlists):\n",
        "      for cancion in playlist:\n",
        "          canciones_playlists[cancion].add(index)\n",
        "  canciones_playlists = canciones_playlists\n",
        "  #Se obtienen los itemsets de las canciones que aparecen un porcentaje de veces mayor al umbral minimo de soporte\n",
        "  _contador = {cancion: veces for cancion, veces in contador_canciones.items() if veces / len(playlists) >= min_support}\n",
        "  _itemset = [{cancion} for cancion in _contador.keys()]\n",
        "  #Se obtienen los itemsets mas frecuentes\n",
        "  _itemsets_frecuentes = {}\n",
        "  _itemsets_frecuentes[1] = sorted(_contador.items(), key=lambda x: x[1], reverse=True)\n",
        "  _itemsets_frecuentes_size = []\n",
        "  k = 2\n",
        "  actual = _itemset   #current :actual\n",
        "  while len(actual) != 0:\n",
        "    #Generar itemsets candidatos\n",
        "    combinaciones = set() \n",
        "    m = k - 2\n",
        "    for candidato in actual: \n",
        "      candidato = list(candidato)\n",
        "      for aux_candidato in actual:\n",
        "        aux_candidato = list(aux_candidato)\n",
        "        union = True\n",
        "        for i in range(k - 2):\n",
        "          if candidato[i] != aux_candidato[i]:\n",
        "              union = False\n",
        "              break\n",
        "        if not union:\n",
        "          continue\n",
        "        if candidato[k - 2] < aux_candidato[k - 2]:\n",
        "          c = candidato + [aux_candidato[k - 2]]\n",
        "          c = frozenset(sorted(c))\n",
        "          combinaciones.add(c)\n",
        "    #Generar el itemset que cumplan con la condicion del umbral minimo de soporte\n",
        "    contador_combinaciones = {}   \n",
        "    playlist_tamanio = len(playlists)   \n",
        "    for candidato in combinaciones:\n",
        "        playlists_inter = []\n",
        "        for song in candidato:\n",
        "          playlists_inter.append(canciones_playlists[song])\n",
        "        contador_combinaciones[candidato] = len(set.intersection(*playlists_inter))\n",
        "    contador_l = {subset: veces for subset, veces in contador_combinaciones.items() if veces / playlist_tamanio >= min_support} \n",
        "    diccionario_l = contador_l.keys() \n",
        "    _itemsets_frecuentes_size.extend(diccionario_l)\n",
        "    _itemsets_frecuentes[k] = sorted(contador_l.items(), key=lambda x: x[1], reverse=True)\n",
        "    k += 1\n",
        "    actual = diccionario_l\n",
        "  #Generar los itemsets en un dataframe\n",
        "  _itemsets_df = pd.DataFrame([item for sublist in _itemsets_frecuentes.values() for item in sublist]).round(3)\n",
        "  _itemsets_df.columns = [\"itemset\", \"contador_support\"]\n",
        "  _itemsets_df[\"support\"] = _itemsets_df[\"contador_support\"] / len(playlists)\n",
        "  #La funcion retornara un vector con 4 datos\n",
        "  extra_data = []\n",
        "  #En la primera posicion estaran los itemsets mas frecuentes.\n",
        "  extra_data.append(_itemsets_df)\n",
        "  #En la segunda posicion estaran los datos de la playlist para un posterior uso.\n",
        "  extra_data.append(playlists)\n",
        "  #En la tercera posicion estara el registro de las canciones que estan en las playlists.\n",
        "  extra_data.append(canciones_playlists)\n",
        "  #En la cuarta posicion estaran el registro de los itemsets largos para un posterior uso.\n",
        "  extra_data.append(_itemsets_frecuentes_size)\n",
        "  return extra_data"
      ],
      "execution_count": 12,
      "outputs": []
    },
    {
      "cell_type": "markdown",
      "metadata": {
        "id": "s32pGtVgnB0I"
      },
      "source": [
        "Segunda funcion principal"
      ]
    },
    {
      "cell_type": "code",
      "metadata": {
        "id": "kwmnZb6vd7Rz"
      },
      "source": [
        "#Funcion para generar las reglas de asociacion\n",
        "def generate_association_rules(frequent_itemsets, confidence, lift):\n",
        "  reglas = []\n",
        "  for itemset in frequent_itemsets[3]:\n",
        "    #Se forman todas las combinaciones posibles de X -> Y, donde X ⊂ I y Y = I - X\n",
        "    itemset_contador = calcular_inter(itemset,frequent_itemsets[2])\n",
        "    itemset_support = itemset_contador / len(frequent_itemsets[0])\n",
        "    for i in range(1, len(itemset) + 1):\n",
        "        for x_set in combinations(itemset, i):\n",
        "            x_set = set(x_set)\n",
        "            y_set = set(itemset) - x_set\n",
        "            x_support = calcular_inter(x_set,frequent_itemsets[2]) / len(frequent_itemsets[0])\n",
        "            x_y_support = calcular_inter(x_set.union(y_set),frequent_itemsets[2]) / len(frequent_itemsets[0])\n",
        "            rule_confidence = x_y_support / x_support\n",
        "            if len(x_set) > 0 and len(y_set) > 0:\n",
        "                y_support = calcular_inter(y_set,frequent_itemsets[2]) / len(frequent_itemsets[0])\n",
        "                rule_lift = x_y_support / (x_support * y_support)\n",
        "                reglas.append((x_set, y_set, rule_confidence, x_y_support, rule_lift))\n",
        "  #Generar dataframe de las reglas de asociacion\n",
        "  reglas_df = pd.DataFrame(data=reglas, columns=[\"X\", \"Y\", \"confidence\", \"support\", \"lift\"]).round(3)\n",
        "  reglas_df[\"X\"] = list(map(tuple, reglas_df[\"X\"]))\n",
        "  reglas_df[\"Y\"] = list(map(tuple, reglas_df[\"Y\"]))\n",
        "\n",
        "  #Hallar las reglas de asociacion de 10 elementos para la confianza\n",
        "  order_by=\"confidence\"\n",
        "  n=10\n",
        "  confidence_df = reglas_df.sort_values(order_by, ascending=False).head(n)\n",
        "\n",
        "  #Hallar las reglas de asociacion de 10 elementos para lift\n",
        "  order_by=\"lift\"\n",
        "  n=10\n",
        "  lift_df2 = reglas_df.sort_values(order_by, ascending=False).head(n)\n",
        "\n",
        "  #Hallar las reglas de asociacion que cumplan con la condicion de confianza y lift\n",
        "  reglas_df[\"len_itemset\"] = reglas_df.apply(lambda x: len(set(x[\"X\"]).union(set(x[\"Y\"]))), axis=1)\n",
        "  reglas_df=reglas_df.sort_values(by=\"len_itemset\", ascending=False)\n",
        "  both_rules = reglas_df[(reglas_df[\"confidence\"] >= confidence) & (reglas_df[\"lift\"] >= lift)]\n",
        "\n",
        "  return confidence_df,lift_df2,both_rules"
      ],
      "execution_count": 4,
      "outputs": []
    },
    {
      "cell_type": "markdown",
      "metadata": {
        "id": "ISDHnVAjAS7j"
      },
      "source": [
        "##Secundarios\n",
        "\n",
        "*   **calcular_inter(subset,canciones_playlist):** Recibe las tuplas de los itemsets para calcular el contador de soporte de un itemset con la lista de canciones en playlist. Una vez obtenidas las listas de reproducción en que aparece cada canción del itemset, se interseca con las listas de reproduccion de playlists. Todos los conjuntos intersecados seran el soporte de determinado itemset.\n",
        "\n",
        "*   **combinations(iterable, r):** Este modulo sirve para generar las tuplas de combinaciones de los itemsets.\n",
        "Por ejemplo: \n",
        "\n",
        "  ```\n",
        "  Combinations('ABCD', 2) --> AB AC AD BC BD CD\n",
        "  Combinations(range(4), 3) --> 012 013 023 123\n",
        "  ```\n",
        "\n",
        " Esta ultima implementación fue extraída de [itertools](https://docs.python.org/3/library/itertools.html#itertools.combinations).\n",
        "\n",
        "\n"
      ]
    },
    {
      "cell_type": "markdown",
      "metadata": {
        "id": "XuEfL1EOnKY3"
      },
      "source": [
        "Funciones secundarias"
      ]
    },
    {
      "cell_type": "code",
      "metadata": {
        "id": "Mo1ORtl-2jBV"
      },
      "source": [
        "#Modulo para crear interseccion de los itemset\n",
        "def calcular_inter(subset,canciones_playlist):\n",
        "    playlists_inter = []\n",
        "    for song in subset:\n",
        "        playlists_inter.append(canciones_playlist[song])\n",
        "    return len(set.intersection(*playlists_inter))\n",
        "    \n",
        "#Modulo para generar combinaciones en los itemsets    \n",
        "def combinations(iterable, r):\n",
        "    pool = tuple(iterable)\n",
        "    n = len(pool)\n",
        "    if r > n:\n",
        "        return\n",
        "    indices = list(range(r))\n",
        "    yield tuple(pool[i] for i in indices)\n",
        "    while True:\n",
        "        for i in reversed(range(r)):\n",
        "            if indices[i] != i + n - r:\n",
        "                break\n",
        "        else:\n",
        "            return\n",
        "        indices[i] += 1\n",
        "        for j in range(i + 1, r):\n",
        "            indices[j] = indices[j - 1] + 1\n",
        "        yield tuple(pool[i] for i in indices)"
      ],
      "execution_count": 5,
      "outputs": []
    },
    {
      "cell_type": "markdown",
      "metadata": {
        "id": "QT74OUBfFtp1"
      },
      "source": [
        "#Aplicar algoritmo y obtener reglas de asociacion"
      ]
    },
    {
      "cell_type": "markdown",
      "metadata": {
        "id": "kBunCyNyFyZM"
      },
      "source": [
        "Lectura de datos"
      ]
    },
    {
      "cell_type": "code",
      "metadata": {
        "id": "RwitjL10x5_b"
      },
      "source": [
        "db = np.load(\"spotify.npy\", allow_pickle = True)"
      ],
      "execution_count": 6,
      "outputs": []
    },
    {
      "cell_type": "markdown",
      "metadata": {
        "id": "rnwqHkdzjou3"
      },
      "source": [
        "Generar itemsets con un umbral de soporte bajo (0.01) para eliminar reglas poco interesantes y elegir itemsets que no ocurrieron al azar."
      ]
    },
    {
      "cell_type": "code",
      "metadata": {
        "id": "tRkq69NIYejZ"
      },
      "source": [
        "itemsets = get_frequent_itemsets(db,0.01)"
      ],
      "execution_count": 21,
      "outputs": []
    },
    {
      "cell_type": "markdown",
      "metadata": {
        "id": "Hzi94lAxj04V"
      },
      "source": [
        "10 itemsets frecuentes con mayor soporte."
      ]
    },
    {
      "cell_type": "code",
      "metadata": {
        "colab": {
          "base_uri": "https://localhost:8080/",
          "height": 206
        },
        "id": "JpfOoQBAanC-",
        "outputId": "c9a7a67c-b3f0-454c-e260-4a9c6c095d9b"
      },
      "source": [
        "itemsets[0].sort_values(by=\"support\").head()"
      ],
      "execution_count": 14,
      "outputs": [
        {
          "output_type": "execute_result",
          "data": {
            "text/html": [
              "<div>\n",
              "<style scoped>\n",
              "    .dataframe tbody tr th:only-of-type {\n",
              "        vertical-align: middle;\n",
              "    }\n",
              "\n",
              "    .dataframe tbody tr th {\n",
              "        vertical-align: top;\n",
              "    }\n",
              "\n",
              "    .dataframe thead th {\n",
              "        text-align: right;\n",
              "    }\n",
              "</style>\n",
              "<table border=\"1\" class=\"dataframe\">\n",
              "  <thead>\n",
              "    <tr style=\"text-align: right;\">\n",
              "      <th></th>\n",
              "      <th>itemset</th>\n",
              "      <th>contador_support</th>\n",
              "      <th>support</th>\n",
              "    </tr>\n",
              "  </thead>\n",
              "  <tbody>\n",
              "    <tr>\n",
              "      <th>1023</th>\n",
              "      <td>(HUMBLE., DNA., Mask Off)</td>\n",
              "      <td>100</td>\n",
              "      <td>0.01</td>\n",
              "    </tr>\n",
              "    <tr>\n",
              "      <th>999</th>\n",
              "      <td>(Black Beatles, No Problem (feat. Lil Wayne &amp; ...</td>\n",
              "      <td>100</td>\n",
              "      <td>0.01</td>\n",
              "    </tr>\n",
              "    <tr>\n",
              "      <th>998</th>\n",
              "      <td>(Fake Love, Black Beatles)</td>\n",
              "      <td>100</td>\n",
              "      <td>0.01</td>\n",
              "    </tr>\n",
              "    <tr>\n",
              "      <th>997</th>\n",
              "      <td>(Jumpman, One Dance)</td>\n",
              "      <td>100</td>\n",
              "      <td>0.01</td>\n",
              "    </tr>\n",
              "    <tr>\n",
              "      <th>996</th>\n",
              "      <td>(Drowning (feat. Kodak Black), goosebumps)</td>\n",
              "      <td>100</td>\n",
              "      <td>0.01</td>\n",
              "    </tr>\n",
              "  </tbody>\n",
              "</table>\n",
              "</div>"
            ],
            "text/plain": [
              "                                                itemset  ...  support\n",
              "1023                          (HUMBLE., DNA., Mask Off)  ...     0.01\n",
              "999   (Black Beatles, No Problem (feat. Lil Wayne & ...  ...     0.01\n",
              "998                          (Fake Love, Black Beatles)  ...     0.01\n",
              "997                                (Jumpman, One Dance)  ...     0.01\n",
              "996          (Drowning (feat. Kodak Black), goosebumps)  ...     0.01\n",
              "\n",
              "[5 rows x 3 columns]"
            ]
          },
          "metadata": {},
          "execution_count": 14
        }
      ]
    },
    {
      "cell_type": "markdown",
      "metadata": {
        "id": "Yl6tng-ckZHA"
      },
      "source": [
        "Generar reglas de asociacion con una confianza de 50% y 90% de lift."
      ]
    },
    {
      "cell_type": "code",
      "metadata": {
        "id": "QuDiANivoHb3"
      },
      "source": [
        "reglas_confidence,reglas_lift,reglas_ambos = generate_association_rules(itemsets,0.5,0.9)"
      ],
      "execution_count": 22,
      "outputs": []
    },
    {
      "cell_type": "markdown",
      "metadata": {
        "id": "xLwUjUDIkiaS"
      },
      "source": [
        " 10 reglas ordenadas con mayor confidence"
      ]
    },
    {
      "cell_type": "code",
      "metadata": {
        "colab": {
          "base_uri": "https://localhost:8080/",
          "height": 363
        },
        "id": "bp7EKcjAp6dp",
        "outputId": "1dd52c06-af06-4020-db9e-1f749fad68fe"
      },
      "source": [
        "reglas_confidence"
      ],
      "execution_count": 23,
      "outputs": [
        {
          "output_type": "execute_result",
          "data": {
            "text/html": [
              "<div>\n",
              "<style scoped>\n",
              "    .dataframe tbody tr th:only-of-type {\n",
              "        vertical-align: middle;\n",
              "    }\n",
              "\n",
              "    .dataframe tbody tr th {\n",
              "        vertical-align: top;\n",
              "    }\n",
              "\n",
              "    .dataframe thead th {\n",
              "        text-align: right;\n",
              "    }\n",
              "</style>\n",
              "<table border=\"1\" class=\"dataframe\">\n",
              "  <thead>\n",
              "    <tr style=\"text-align: right;\">\n",
              "      <th></th>\n",
              "      <th>X</th>\n",
              "      <th>Y</th>\n",
              "      <th>confidence</th>\n",
              "      <th>support</th>\n",
              "      <th>lift</th>\n",
              "    </tr>\n",
              "  </thead>\n",
              "  <tbody>\n",
              "    <tr>\n",
              "      <th>441</th>\n",
              "      <td>(DNA., Mask Off)</td>\n",
              "      <td>(HUMBLE.,)</td>\n",
              "      <td>0.909</td>\n",
              "      <td>0.098</td>\n",
              "      <td>2.002</td>\n",
              "    </tr>\n",
              "    <tr>\n",
              "      <th>375</th>\n",
              "      <td>(DNA., XO TOUR Llif3)</td>\n",
              "      <td>(HUMBLE.,)</td>\n",
              "      <td>0.864</td>\n",
              "      <td>0.100</td>\n",
              "      <td>1.904</td>\n",
              "    </tr>\n",
              "    <tr>\n",
              "      <th>45</th>\n",
              "      <td>(DNA.,)</td>\n",
              "      <td>(HUMBLE.,)</td>\n",
              "      <td>0.823</td>\n",
              "      <td>0.186</td>\n",
              "      <td>1.811</td>\n",
              "    </tr>\n",
              "    <tr>\n",
              "      <th>357</th>\n",
              "      <td>(XO TOUR Llif3, Mask Off)</td>\n",
              "      <td>(HUMBLE.,)</td>\n",
              "      <td>0.804</td>\n",
              "      <td>0.128</td>\n",
              "      <td>1.770</td>\n",
              "    </tr>\n",
              "    <tr>\n",
              "      <th>351</th>\n",
              "      <td>(Bounce Back, Broccoli (feat. Lil Yachty))</td>\n",
              "      <td>(Bad and Boujee (feat. Lil Uzi Vert),)</td>\n",
              "      <td>0.775</td>\n",
              "      <td>0.098</td>\n",
              "      <td>2.301</td>\n",
              "    </tr>\n",
              "    <tr>\n",
              "      <th>423</th>\n",
              "      <td>(Slippery (feat. Gucci Mane), XO TOUR Llif3)</td>\n",
              "      <td>(HUMBLE.,)</td>\n",
              "      <td>0.765</td>\n",
              "      <td>0.099</td>\n",
              "      <td>1.685</td>\n",
              "    </tr>\n",
              "    <tr>\n",
              "      <th>381</th>\n",
              "      <td>(XO TOUR Llif3, Tunnel Vision)</td>\n",
              "      <td>(HUMBLE.,)</td>\n",
              "      <td>0.750</td>\n",
              "      <td>0.100</td>\n",
              "      <td>1.652</td>\n",
              "    </tr>\n",
              "    <tr>\n",
              "      <th>363</th>\n",
              "      <td>(Congratulations, Mask Off)</td>\n",
              "      <td>(HUMBLE.,)</td>\n",
              "      <td>0.747</td>\n",
              "      <td>0.118</td>\n",
              "      <td>1.645</td>\n",
              "    </tr>\n",
              "    <tr>\n",
              "      <th>417</th>\n",
              "      <td>(goosebumps, Mask Off)</td>\n",
              "      <td>(HUMBLE.,)</td>\n",
              "      <td>0.743</td>\n",
              "      <td>0.107</td>\n",
              "      <td>1.637</td>\n",
              "    </tr>\n",
              "    <tr>\n",
              "      <th>399</th>\n",
              "      <td>(Bounce Back, Mask Off)</td>\n",
              "      <td>(HUMBLE.,)</td>\n",
              "      <td>0.743</td>\n",
              "      <td>0.099</td>\n",
              "      <td>1.635</td>\n",
              "    </tr>\n",
              "  </tbody>\n",
              "</table>\n",
              "</div>"
            ],
            "text/plain": [
              "                                                X  ...   lift\n",
              "441                              (DNA., Mask Off)  ...  2.002\n",
              "375                         (DNA., XO TOUR Llif3)  ...  1.904\n",
              "45                                        (DNA.,)  ...  1.811\n",
              "357                     (XO TOUR Llif3, Mask Off)  ...  1.770\n",
              "351    (Bounce Back, Broccoli (feat. Lil Yachty))  ...  2.301\n",
              "423  (Slippery (feat. Gucci Mane), XO TOUR Llif3)  ...  1.685\n",
              "381                (XO TOUR Llif3, Tunnel Vision)  ...  1.652\n",
              "363                   (Congratulations, Mask Off)  ...  1.645\n",
              "417                        (goosebumps, Mask Off)  ...  1.637\n",
              "399                       (Bounce Back, Mask Off)  ...  1.635\n",
              "\n",
              "[10 rows x 5 columns]"
            ]
          },
          "metadata": {},
          "execution_count": 23
        }
      ]
    },
    {
      "cell_type": "markdown",
      "metadata": {
        "id": "SRiCHNu-ksiL"
      },
      "source": [
        " 10 reglas ordenadas con mayor lift"
      ]
    },
    {
      "cell_type": "code",
      "metadata": {
        "colab": {
          "base_uri": "https://localhost:8080/",
          "height": 363
        },
        "id": "i9bziMcuslGQ",
        "outputId": "9f2b58a5-af42-4625-daa9-ba5f080cf42a"
      },
      "source": [
        "reglas_lift"
      ],
      "execution_count": 24,
      "outputs": [
        {
          "output_type": "execute_result",
          "data": {
            "text/html": [
              "<div>\n",
              "<style scoped>\n",
              "    .dataframe tbody tr th:only-of-type {\n",
              "        vertical-align: middle;\n",
              "    }\n",
              "\n",
              "    .dataframe tbody tr th {\n",
              "        vertical-align: top;\n",
              "    }\n",
              "\n",
              "    .dataframe thead th {\n",
              "        text-align: right;\n",
              "    }\n",
              "</style>\n",
              "<table border=\"1\" class=\"dataframe\">\n",
              "  <thead>\n",
              "    <tr style=\"text-align: right;\">\n",
              "      <th></th>\n",
              "      <th>X</th>\n",
              "      <th>Y</th>\n",
              "      <th>confidence</th>\n",
              "      <th>support</th>\n",
              "      <th>lift</th>\n",
              "    </tr>\n",
              "  </thead>\n",
              "  <tbody>\n",
              "    <tr>\n",
              "      <th>123</th>\n",
              "      <td>(No Heart,)</td>\n",
              "      <td>(X (feat. Future),)</td>\n",
              "      <td>0.696</td>\n",
              "      <td>0.101</td>\n",
              "      <td>3.493</td>\n",
              "    </tr>\n",
              "    <tr>\n",
              "      <th>122</th>\n",
              "      <td>(X (feat. Future),)</td>\n",
              "      <td>(No Heart,)</td>\n",
              "      <td>0.505</td>\n",
              "      <td>0.101</td>\n",
              "      <td>3.493</td>\n",
              "    </tr>\n",
              "    <tr>\n",
              "      <th>226</th>\n",
              "      <td>(Chicken Fried,)</td>\n",
              "      <td>(Knee Deep (feat. Jimmy Buffett),)</td>\n",
              "      <td>0.500</td>\n",
              "      <td>0.104</td>\n",
              "      <td>3.261</td>\n",
              "    </tr>\n",
              "    <tr>\n",
              "      <th>227</th>\n",
              "      <td>(Knee Deep (feat. Jimmy Buffett),)</td>\n",
              "      <td>(Chicken Fried,)</td>\n",
              "      <td>0.682</td>\n",
              "      <td>0.104</td>\n",
              "      <td>3.261</td>\n",
              "    </tr>\n",
              "    <tr>\n",
              "      <th>20</th>\n",
              "      <td>(You Was Right,)</td>\n",
              "      <td>(Money Longer,)</td>\n",
              "      <td>0.603</td>\n",
              "      <td>0.114</td>\n",
              "      <td>3.183</td>\n",
              "    </tr>\n",
              "    <tr>\n",
              "      <th>21</th>\n",
              "      <td>(Money Longer,)</td>\n",
              "      <td>(You Was Right,)</td>\n",
              "      <td>0.603</td>\n",
              "      <td>0.114</td>\n",
              "      <td>3.183</td>\n",
              "    </tr>\n",
              "    <tr>\n",
              "      <th>280</th>\n",
              "      <td>(Bank Account,)</td>\n",
              "      <td>(Butterfly Effect,)</td>\n",
              "      <td>0.483</td>\n",
              "      <td>0.108</td>\n",
              "      <td>2.547</td>\n",
              "    </tr>\n",
              "    <tr>\n",
              "      <th>281</th>\n",
              "      <td>(Butterfly Effect,)</td>\n",
              "      <td>(Bank Account,)</td>\n",
              "      <td>0.572</td>\n",
              "      <td>0.108</td>\n",
              "      <td>2.547</td>\n",
              "    </tr>\n",
              "    <tr>\n",
              "      <th>276</th>\n",
              "      <td>(Bank Account,)</td>\n",
              "      <td>(Magnolia,)</td>\n",
              "      <td>0.491</td>\n",
              "      <td>0.110</td>\n",
              "      <td>2.541</td>\n",
              "    </tr>\n",
              "    <tr>\n",
              "      <th>277</th>\n",
              "      <td>(Magnolia,)</td>\n",
              "      <td>(Bank Account,)</td>\n",
              "      <td>0.571</td>\n",
              "      <td>0.110</td>\n",
              "      <td>2.541</td>\n",
              "    </tr>\n",
              "  </tbody>\n",
              "</table>\n",
              "</div>"
            ],
            "text/plain": [
              "                                      X  ...   lift\n",
              "123                         (No Heart,)  ...  3.493\n",
              "122                 (X (feat. Future),)  ...  3.493\n",
              "226                    (Chicken Fried,)  ...  3.261\n",
              "227  (Knee Deep (feat. Jimmy Buffett),)  ...  3.261\n",
              "20                     (You Was Right,)  ...  3.183\n",
              "21                      (Money Longer,)  ...  3.183\n",
              "280                     (Bank Account,)  ...  2.547\n",
              "281                 (Butterfly Effect,)  ...  2.547\n",
              "276                     (Bank Account,)  ...  2.541\n",
              "277                         (Magnolia,)  ...  2.541\n",
              "\n",
              "[10 rows x 5 columns]"
            ]
          },
          "metadata": {},
          "execution_count": 24
        }
      ]
    },
    {
      "cell_type": "markdown",
      "metadata": {
        "id": "vEADa48Bkum8"
      },
      "source": [
        " 10 reglas que cumplen con el limite mayor a los umbrales de confidence y lift al mismo tiempo."
      ]
    },
    {
      "cell_type": "code",
      "metadata": {
        "colab": {
          "base_uri": "https://localhost:8080/",
          "height": 363
        },
        "id": "w-q-gAEetrpp",
        "outputId": "f4048b47-3533-42c8-f952-e22eb191705d"
      },
      "source": [
        "reglas_ambos.head(10)"
      ],
      "execution_count": 25,
      "outputs": [
        {
          "output_type": "execute_result",
          "data": {
            "text/html": [
              "<div>\n",
              "<style scoped>\n",
              "    .dataframe tbody tr th:only-of-type {\n",
              "        vertical-align: middle;\n",
              "    }\n",
              "\n",
              "    .dataframe tbody tr th {\n",
              "        vertical-align: top;\n",
              "    }\n",
              "\n",
              "    .dataframe thead th {\n",
              "        text-align: right;\n",
              "    }\n",
              "</style>\n",
              "<table border=\"1\" class=\"dataframe\">\n",
              "  <thead>\n",
              "    <tr style=\"text-align: right;\">\n",
              "      <th></th>\n",
              "      <th>X</th>\n",
              "      <th>Y</th>\n",
              "      <th>confidence</th>\n",
              "      <th>support</th>\n",
              "      <th>lift</th>\n",
              "      <th>len_itemset</th>\n",
              "    </tr>\n",
              "  </thead>\n",
              "  <tbody>\n",
              "    <tr>\n",
              "      <th>447</th>\n",
              "      <td>(XO TOUR Llif3, Congratulations)</td>\n",
              "      <td>(goosebumps,)</td>\n",
              "      <td>0.581</td>\n",
              "      <td>0.102</td>\n",
              "      <td>1.932</td>\n",
              "      <td>3</td>\n",
              "    </tr>\n",
              "    <tr>\n",
              "      <th>362</th>\n",
              "      <td>(HUMBLE., Mask Off)</td>\n",
              "      <td>(Congratulations,)</td>\n",
              "      <td>0.593</td>\n",
              "      <td>0.118</td>\n",
              "      <td>1.507</td>\n",
              "      <td>3</td>\n",
              "    </tr>\n",
              "    <tr>\n",
              "      <th>367</th>\n",
              "      <td>(XO TOUR Llif3, Congratulations)</td>\n",
              "      <td>(Mask Off,)</td>\n",
              "      <td>0.598</td>\n",
              "      <td>0.104</td>\n",
              "      <td>1.937</td>\n",
              "      <td>3</td>\n",
              "    </tr>\n",
              "    <tr>\n",
              "      <th>368</th>\n",
              "      <td>(XO TOUR Llif3, Mask Off)</td>\n",
              "      <td>(Congratulations,)</td>\n",
              "      <td>0.656</td>\n",
              "      <td>0.104</td>\n",
              "      <td>1.668</td>\n",
              "      <td>3</td>\n",
              "    </tr>\n",
              "    <tr>\n",
              "      <th>369</th>\n",
              "      <td>(Congratulations, Mask Off)</td>\n",
              "      <td>(XO TOUR Llif3,)</td>\n",
              "      <td>0.660</td>\n",
              "      <td>0.104</td>\n",
              "      <td>2.094</td>\n",
              "      <td>3</td>\n",
              "    </tr>\n",
              "    <tr>\n",
              "      <th>373</th>\n",
              "      <td>(HUMBLE., DNA.)</td>\n",
              "      <td>(XO TOUR Llif3,)</td>\n",
              "      <td>0.537</td>\n",
              "      <td>0.100</td>\n",
              "      <td>1.702</td>\n",
              "      <td>3</td>\n",
              "    </tr>\n",
              "    <tr>\n",
              "      <th>374</th>\n",
              "      <td>(HUMBLE., XO TOUR Llif3)</td>\n",
              "      <td>(DNA.,)</td>\n",
              "      <td>0.500</td>\n",
              "      <td>0.100</td>\n",
              "      <td>2.216</td>\n",
              "      <td>3</td>\n",
              "    </tr>\n",
              "    <tr>\n",
              "      <th>375</th>\n",
              "      <td>(DNA., XO TOUR Llif3)</td>\n",
              "      <td>(HUMBLE.,)</td>\n",
              "      <td>0.864</td>\n",
              "      <td>0.100</td>\n",
              "      <td>1.904</td>\n",
              "      <td>3</td>\n",
              "    </tr>\n",
              "    <tr>\n",
              "      <th>379</th>\n",
              "      <td>(HUMBLE., XO TOUR Llif3)</td>\n",
              "      <td>(Tunnel Vision,)</td>\n",
              "      <td>0.500</td>\n",
              "      <td>0.100</td>\n",
              "      <td>2.073</td>\n",
              "      <td>3</td>\n",
              "    </tr>\n",
              "    <tr>\n",
              "      <th>380</th>\n",
              "      <td>(HUMBLE., Tunnel Vision)</td>\n",
              "      <td>(XO TOUR Llif3,)</td>\n",
              "      <td>0.734</td>\n",
              "      <td>0.100</td>\n",
              "      <td>2.326</td>\n",
              "      <td>3</td>\n",
              "    </tr>\n",
              "  </tbody>\n",
              "</table>\n",
              "</div>"
            ],
            "text/plain": [
              "                                    X                   Y  ...   lift  len_itemset\n",
              "447  (XO TOUR Llif3, Congratulations)       (goosebumps,)  ...  1.932            3\n",
              "362               (HUMBLE., Mask Off)  (Congratulations,)  ...  1.507            3\n",
              "367  (XO TOUR Llif3, Congratulations)         (Mask Off,)  ...  1.937            3\n",
              "368         (XO TOUR Llif3, Mask Off)  (Congratulations,)  ...  1.668            3\n",
              "369       (Congratulations, Mask Off)    (XO TOUR Llif3,)  ...  2.094            3\n",
              "373                   (HUMBLE., DNA.)    (XO TOUR Llif3,)  ...  1.702            3\n",
              "374          (HUMBLE., XO TOUR Llif3)             (DNA.,)  ...  2.216            3\n",
              "375             (DNA., XO TOUR Llif3)          (HUMBLE.,)  ...  1.904            3\n",
              "379          (HUMBLE., XO TOUR Llif3)    (Tunnel Vision,)  ...  2.073            3\n",
              "380          (HUMBLE., Tunnel Vision)    (XO TOUR Llif3,)  ...  2.326            3\n",
              "\n",
              "[10 rows x 6 columns]"
            ]
          },
          "metadata": {},
          "execution_count": 25
        }
      ]
    },
    {
      "cell_type": "markdown",
      "metadata": {
        "id": "jRxB7YiKlUaA"
      },
      "source": [
        "#Obtener 4 reglas\n",
        "4 reglas que presentan el valor más alto de lift."
      ]
    },
    {
      "cell_type": "code",
      "metadata": {
        "colab": {
          "base_uri": "https://localhost:8080/",
          "height": 174
        },
        "id": "gT08W81uoUFL",
        "outputId": "dfa661a4-7612-4c8a-a36b-7ecc087d996b"
      },
      "source": [
        "top_4=reglas_lift.head(4)\n",
        "top_4"
      ],
      "execution_count": 32,
      "outputs": [
        {
          "output_type": "execute_result",
          "data": {
            "text/html": [
              "<div>\n",
              "<style scoped>\n",
              "    .dataframe tbody tr th:only-of-type {\n",
              "        vertical-align: middle;\n",
              "    }\n",
              "\n",
              "    .dataframe tbody tr th {\n",
              "        vertical-align: top;\n",
              "    }\n",
              "\n",
              "    .dataframe thead th {\n",
              "        text-align: right;\n",
              "    }\n",
              "</style>\n",
              "<table border=\"1\" class=\"dataframe\">\n",
              "  <thead>\n",
              "    <tr style=\"text-align: right;\">\n",
              "      <th></th>\n",
              "      <th>X</th>\n",
              "      <th>Y</th>\n",
              "      <th>confidence</th>\n",
              "      <th>support</th>\n",
              "      <th>lift</th>\n",
              "    </tr>\n",
              "  </thead>\n",
              "  <tbody>\n",
              "    <tr>\n",
              "      <th>123</th>\n",
              "      <td>(No Heart,)</td>\n",
              "      <td>(X (feat. Future),)</td>\n",
              "      <td>0.696</td>\n",
              "      <td>0.101</td>\n",
              "      <td>3.493</td>\n",
              "    </tr>\n",
              "    <tr>\n",
              "      <th>122</th>\n",
              "      <td>(X (feat. Future),)</td>\n",
              "      <td>(No Heart,)</td>\n",
              "      <td>0.505</td>\n",
              "      <td>0.101</td>\n",
              "      <td>3.493</td>\n",
              "    </tr>\n",
              "    <tr>\n",
              "      <th>226</th>\n",
              "      <td>(Chicken Fried,)</td>\n",
              "      <td>(Knee Deep (feat. Jimmy Buffett),)</td>\n",
              "      <td>0.500</td>\n",
              "      <td>0.104</td>\n",
              "      <td>3.261</td>\n",
              "    </tr>\n",
              "    <tr>\n",
              "      <th>227</th>\n",
              "      <td>(Knee Deep (feat. Jimmy Buffett),)</td>\n",
              "      <td>(Chicken Fried,)</td>\n",
              "      <td>0.682</td>\n",
              "      <td>0.104</td>\n",
              "      <td>3.261</td>\n",
              "    </tr>\n",
              "  </tbody>\n",
              "</table>\n",
              "</div>"
            ],
            "text/plain": [
              "                                      X  ...   lift\n",
              "123                         (No Heart,)  ...  3.493\n",
              "122                 (X (feat. Future),)  ...  3.493\n",
              "226                    (Chicken Fried,)  ...  3.261\n",
              "227  (Knee Deep (feat. Jimmy Buffett),)  ...  3.261\n",
              "\n",
              "[4 rows x 5 columns]"
            ]
          },
          "metadata": {},
          "execution_count": 32
        }
      ]
    },
    {
      "cell_type": "markdown",
      "metadata": {
        "id": "VecQpJNfnuII"
      },
      "source": [
        "#Explicar reglas obtenidas\n",
        "\n",
        "Una vez obtenidas las 4 reglas a analizar, tomamos en cuenta que se hizo una filtracion del valor lift mas alto ya que nos va arrojar itemsets que seran mas claros y da con mayor certeza la aparicion frecuente de la tupla de las canciones en playlists y que estas no sean simplemente coincidencias.\n",
        "\n",
        "Para considerar sobre las reglas obtenidas:\n",
        "1.   Se puso un valor de umbral de soporte bajo (0.01) para que se pueda generar itemsets interesantes.\n",
        "2.   El valor de lift muy alejado de 1 indica que esta regla no se genero al azar o por simples coincidencias.\n",
        "\n",
        "\n",
        "\n"
      ]
    },
    {
      "cell_type": "markdown",
      "metadata": {
        "id": "BJMaPEYQnv5U"
      },
      "source": [
        "**Primera regla**\n",
        "\n",
        "```\n",
        "(No Heart,) ---> (X (feat. Future),)\n",
        "```\n",
        "Se toma en cuenta que ambas canciones son de genero rap y su relacion puede estar ligada al gusto musical de este genero.\n",
        "El valor de la confianza de la regla alcanza 0.696 y supera ligeramente el umbral definido (0.5), se puede decir que la regla se cumple según ese criterio. \n",
        "\n"
      ]
    },
    {
      "cell_type": "markdown",
      "metadata": {
        "id": "ZXMdPLjypB2W"
      },
      "source": [
        "**Segunda regla**\n",
        "```\n",
        "(X (feat. Future),) ---> (No Heart,)\t\n",
        "```\n",
        "Se vuelve a repetir las mismas canciones de la anterior regla, podemos plantear que estas canciones estan ligadas a los gustos musicales de los amantes del rap o hip-hop.\n",
        "De la misma manera en la que se analizo la anterior cancion, la confianza en esta regla supera el umbral predefinido y cumple con el criterio."
      ]
    },
    {
      "cell_type": "markdown",
      "metadata": {
        "id": "21qCNq3mpCjR"
      },
      "source": [
        "**Tercera regla**\n",
        "\n",
        "```\n",
        "(Chicken Fried,) ---> (Knee Deep (feat. Jimmy Buffett),)\t\n",
        "```\n",
        "Estas canciones son de genero country - folk, segun lo revisado, ambas canciones pertenecen a la misma banda, por lo cual su relacion esta ligada al gusto musical de la banda, o tambien puede resultar que ambas canciones son las mas exitosas de este grupo y tienen mayor aprobacion.\n",
        "El umbral de confianza de aparicion de esta regla se iguala con la definida y la cumple. "
      ]
    },
    {
      "cell_type": "markdown",
      "metadata": {
        "id": "Bli7ef5qpDIt"
      },
      "source": [
        "**Cuarta regla**\n",
        "\n",
        "```\n",
        "(Knee Deep (feat. Jimmy Buffett),) ---> (Chicken Fried,)\t\n",
        "```\n",
        "Esta cancion vuelve a aparecer al igual que la anterior regla por lo que se tiene una fuerte relacion y podemos concluir que no es una simple coincidencia. Pero en este caso la confianza alcanza 0.682 y supera el umbral definido, concluyendo que la regla ofrece mayor fidelidad gracias a este criterio."
      ]
    },
    {
      "cell_type": "markdown",
      "metadata": {
        "id": "DAM4B8nLwYSh"
      },
      "source": [
        "#Analisis de frecuencia de canciones"
      ]
    },
    {
      "cell_type": "markdown",
      "metadata": {
        "id": "-ynevduCx5Kw"
      },
      "source": [
        "Mostramos las 20 canciones mas frecuentes en todas las playlists que se registraron."
      ]
    },
    {
      "cell_type": "code",
      "metadata": {
        "colab": {
          "base_uri": "https://localhost:8080/"
        },
        "id": "5JMdwuhVwbC1",
        "outputId": "f637366b-63b0-4fe1-8215-d69d794f6f3f"
      },
      "source": [
        "playlists = db.item().values()\n",
        "_canciones = [item for sublist in playlists for item in sublist]\n",
        "pd.Series(_canciones).value_counts().sort_values(ascending=False)[0:20]"
      ],
      "execution_count": 34,
      "outputs": [
        {
          "output_type": "execute_result",
          "data": {
            "text/plain": [
              "Closer                                 761\n",
              "Home                                   489\n",
              "HUMBLE.                                470\n",
              "Roses                                  436\n",
              "One Dance                              433\n",
              "Ride                                   429\n",
              "Congratulations                        410\n",
              "Let Me Love You                        403\n",
              "Broccoli (feat. Lil Yachty)            402\n",
              "Caroline                               395\n",
              "Gold                                   386\n",
              "T-Shirt                                355\n",
              "Stay                                   355\n",
              "Bad and Boujee (feat. Lil Uzi Vert)    353\n",
              "Riptide                                339\n",
              "iSpy (feat. Lil Yachty)                339\n",
              "Forever                                337\n",
              "Unforgettable                          331\n",
              "Sorry                                  330\n",
              "XO TOUR Llif3                          330\n",
              "dtype: int64"
            ]
          },
          "metadata": {},
          "execution_count": 34
        }
      ]
    },
    {
      "cell_type": "markdown",
      "metadata": {
        "id": "IQ2mHBPvwkP3"
      },
      "source": [
        "Aunque la cancion Closer del grupo Chainsmokers aparezca con mayor frecuencia en las playlists, no significa que esta, este relacionada de manera especial o unica con otra cancion, ya que no se observo alguna relacion en las reglas, por lo que se concluye que es un single que tuvo exito y no hay dependencias."
      ]
    }
  ]
}