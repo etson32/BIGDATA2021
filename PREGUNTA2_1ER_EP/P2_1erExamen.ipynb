{
  "cells": [
    {
      "cell_type": "markdown",
      "id": "d717cb99-7be3-48f0-b3b7-f9c8389f5a28",
      "metadata": {
        "id": "d717cb99-7be3-48f0-b3b7-f9c8389f5a28"
      },
      "source": [
        "<h5>Crear una función mediaDivN d n que devuelva la media de los n primeros números que devuelven True a la función divisibleN x d.<h5>\n",
        "<blockquote><b>Mineria de datos</b></blockquote>\n",
        "<blockquote>Alumno: Rojas Cahuana Etson Ronaldao</blockquote>"
      ]
    },
    {
      "cell_type": "code",
      "execution_count": null,
      "id": "278dc683-6319-4465-b2f0-2c458eaf7129",
      "metadata": {
        "id": "278dc683-6319-4465-b2f0-2c458eaf7129"
      },
      "outputs": [],
      "source": [
        "-- Mínimo común múltiplo\n",
        "mcm :: [Int] -> Int\n",
        "-- quot es mas eficiente que div\n",
        "mcm [x,y] = x `quot` gcd x y * y\n",
        "mcm (x:z) = x `quot` gcd x (mcm z) * mcm z\n",
        "-- media divN\n",
        "mediaDivN :: Int -> Int -> Float\n",
        "mediaDivN d n = media \n",
        "    where\n",
        "        media = fromIntegral(mcm[1..d]) * fromIntegral(n+1) / 2"
      ]
    },
    {
      "cell_type": "code",
      "execution_count": null,
      "id": "b3838171-c5bc-4042-bd7b-af6f14cc050f",
      "metadata": {
        "id": "b3838171-c5bc-4042-bd7b-af6f14cc050f",
        "outputId": "59074a20-08f8-4a48-c391-e96e6698f186"
      },
      "outputs": [
        {
          "data": {
            "text/plain": [
              "5.0"
            ]
          },
          "metadata": {},
          "output_type": "display_data"
        },
        {
          "data": {
            "text/plain": [
              "18.0"
            ]
          },
          "metadata": {},
          "output_type": "display_data"
        },
        {
          "data": {
            "text/plain": [
              "42.0"
            ]
          },
          "metadata": {},
          "output_type": "display_data"
        },
        {
          "data": {
            "text/plain": [
              "240.0"
            ]
          },
          "metadata": {},
          "output_type": "display_data"
        }
      ],
      "source": [
        "mediaDivN 2 4\n",
        "mediaDivN 3 5\n",
        "mediaDivN 4 6\n",
        "mediaDivN 5 7"
      ]
    }
  ],
  "metadata": {
    "kernelspec": {
      "display_name": "Haskell",
      "language": "haskell",
      "name": "haskell"
    },
    "language_info": {
      "codemirror_mode": "ihaskell",
      "file_extension": ".hs",
      "mimetype": "text/x-haskell",
      "name": "haskell",
      "pygments_lexer": "Haskell",
      "version": "8.10.7"
    },
    "colab": {
      "name": "P2_1erExamen.ipynb",
      "provenance": []
    }
  },
  "nbformat": 4,
  "nbformat_minor": 5
}